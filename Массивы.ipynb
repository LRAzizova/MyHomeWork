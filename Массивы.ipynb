{
  "nbformat": 4,
  "nbformat_minor": 0,
  "metadata": {
    "colab": {
      "provenance": [],
      "authorship_tag": "ABX9TyMtY6Isc2eztnBTtmBoHaEm",
      "include_colab_link": true
    },
    "kernelspec": {
      "name": "python3",
      "display_name": "Python 3"
    },
    "language_info": {
      "name": "python"
    }
  },
  "cells": [
    {
      "cell_type": "markdown",
      "metadata": {
        "id": "view-in-github",
        "colab_type": "text"
      },
      "source": [
        "<a href=\"https://colab.research.google.com/github/LRAzizova/MyHomeWork/blob/main/%D0%9C%D0%B0%D1%81%D1%81%D0%B8%D0%B2%D1%8B.ipynb\" target=\"_parent\"><img src=\"https://colab.research.google.com/assets/colab-badge.svg\" alt=\"Open In Colab\"/></a>"
      ]
    },
    {
      "cell_type": "markdown",
      "source": [
        "Array9. Дан целочисленный массив размера N. Вывести все содержащиеся в данном массиве четные числа в порядке убывания их индексов, а также их количество K."
      ],
      "metadata": {
        "id": "1TkeZNWZjgGx"
      }
    },
    {
      "cell_type": "code",
      "source": [
        "import random\n",
        "import math\n",
        "N = random.randrange(1,10)\n",
        "A = [random.randrange(1,21) for i in range(N)]\n",
        "print(\"N =\", N)\n",
        "print(A)\n",
        "K = 0\n",
        "for i in range(N,0,-1):\n",
        "    if A[i-1]%2 == 0:\n",
        "        K += 1\n",
        "        print(i-1,\":\",A[i-1], end=\"; \")\n",
        "print()\n",
        "print('Amount of even numbers =', K)"
      ],
      "metadata": {
        "colab": {
          "base_uri": "https://localhost:8080/"
        },
        "id": "_C1keFh4m50x",
        "outputId": "60db957e-46be-4169-992a-cb61b5c4c532"
      },
      "execution_count": 11,
      "outputs": [
        {
          "output_type": "stream",
          "name": "stdout",
          "text": [
            "N = 6\n",
            "[13, 13, 20, 15, 16, 19]\n",
            "4 : 16; 2 : 20; \n",
            "Amount of even numbers = 2\n"
          ]
        }
      ]
    },
    {
      "cell_type": "markdown",
      "source": [
        "Array21. Дан массив размера N и целые числа K и L (1  K  L  N). Найти среднее арифметическое элементов массива с номерами от K до L включи- тельно."
      ],
      "metadata": {
        "id": "ucw3IeFNnhX6"
      }
    },
    {
      "cell_type": "code",
      "source": [
        "N = int(input())\n",
        "arr = input().split()\n",
        "K, L = input().split()\n",
        "K, L = int(K), int(L)\n",
        "total = 0\n",
        "count = 0\n",
        "for i in range(K-1, L):\n",
        "    total = total + int(arr[i])\n",
        "    count = count + 1\n",
        "print(total / count)"
      ],
      "metadata": {
        "colab": {
          "base_uri": "https://localhost:8080/"
        },
        "id": "sU5InT4qpnPJ",
        "outputId": "93026302-e9d0-4569-8825-0b78129da20e"
      },
      "execution_count": 30,
      "outputs": [
        {
          "output_type": "stream",
          "name": "stdout",
          "text": [
            "5\n",
            "1 2 3 4 5 \n",
            "2 4 \n",
            "3.0\n"
          ]
        }
      ]
    },
    {
      "cell_type": "markdown",
      "source": [
        "Array28. Дан массив A размера N. Найти минимальный элемент из его элемен- тов с четными номерами: A2, A4, A6, … ."
      ],
      "metadata": {
        "id": "CbbiTQAhsPZF"
      }
    },
    {
      "cell_type": "code",
      "source": [
        "N = int(input())\n",
        "A = input().split()\n",
        "min_even = int(A[1])\n",
        "for i in range(3, N, 2):\n",
        "    if int(A[i]) < min_even:\n",
        "        min_even = int(A[i])\n",
        "print(min_even)"
      ],
      "metadata": {
        "colab": {
          "base_uri": "https://localhost:8080/"
        },
        "id": "H1a8rjhYsXFN",
        "outputId": "963b7323-55ba-48b8-8e17-e80f9cbb9b60"
      },
      "execution_count": 31,
      "outputs": [
        {
          "output_type": "stream",
          "name": "stdout",
          "text": [
            "6\n",
            "5 3 8 1 7 4\n",
            "1\n"
          ]
        }
      ]
    },
    {
      "cell_type": "markdown",
      "source": [
        "Array40. Дано число R и массив A размера N. Найти элемент массива, который наиболее близок к числу R (то есть такой элемент AK, для которого величи- на |AK – R| является минимальной)."
      ],
      "metadata": {
        "id": "b5Wlfl_rshR2"
      }
    },
    {
      "cell_type": "code",
      "source": [
        "R = float(input())\n",
        "N = int(input())\n",
        "A = input().split()\n",
        "closest = float(A[0])\n",
        "min_diff = abs(float(A[0]) - R)\n",
        "for i in range(1, N):\n",
        "    current = float(A[i])\n",
        "    diff = abs(current - R)\n",
        "    if diff < min_diff:\n",
        "        min_diff = diff\n",
        "        closest = current\n",
        "print(closest)"
      ],
      "metadata": {
        "colab": {
          "base_uri": "https://localhost:8080/"
        },
        "id": "X6PHbm82sjrK",
        "outputId": "b8e70db4-9bae-4d98-bf4f-0aedb9d8bacd"
      },
      "execution_count": 32,
      "outputs": [
        {
          "output_type": "stream",
          "name": "stdout",
          "text": [
            "5\n",
            "6\n",
            "3 7 1 9 4 6\n",
            "4.0\n"
          ]
        }
      ]
    },
    {
      "cell_type": "markdown",
      "source": [
        "Array49. Дан целочисленный массив размера N. Если он является перестанов- кой, то есть содержит все числа от 1 до N, то вывести 0; в противном слу- чае вывести номер первого недопустимого элемента."
      ],
      "metadata": {
        "id": "Xi7GEXIhs9_3"
      }
    },
    {
      "cell_type": "code",
      "source": [
        "N = int(input())\n",
        "A = list(map(int, input().split()))\n",
        "for i in range(N):\n",
        "    if A[i] < 1 or A[i] > N:\n",
        "        print(i + 1)\n",
        "        break\n",
        "else:\n",
        "    seen = set()\n",
        "    for i in range(N):\n",
        "        if A[i] in seen:\n",
        "            print(i + 1)\n",
        "            break\n",
        "        seen.add(A[i])\n",
        "    else:\n",
        "        print(0)"
      ],
      "metadata": {
        "colab": {
          "base_uri": "https://localhost:8080/"
        },
        "id": "cSmYjMmttBYC",
        "outputId": "8267b8dc-0027-44ec-cbf8-d40a4ec8bffd"
      },
      "execution_count": 33,
      "outputs": [
        {
          "output_type": "stream",
          "name": "stdout",
          "text": [
            "5\n",
            "1 2 3 3 5\n",
            "4\n"
          ]
        }
      ]
    },
    {
      "cell_type": "markdown",
      "source": [
        "Matrix3. Даны целые положительные числа M, N и набор из M чисел. Сформи- ровать матрицу размера M  N, у которой в каждом столбце содержатся все числа из исходного набора (в том же порядке)."
      ],
      "metadata": {
        "id": "48GE6a_ztQd-"
      }
    },
    {
      "cell_type": "code",
      "source": [
        "M = int(input())\n",
        "N = int(input())\n",
        "numbers = input().split()\n",
        "matrix = [[numbers[i] for _ in range(N)] for i in range(M)]\n",
        "for row in matrix:\n",
        "    print(\" \".join(row))"
      ],
      "metadata": {
        "colab": {
          "base_uri": "https://localhost:8080/"
        },
        "id": "eCUx9HUrtpfW",
        "outputId": "64e46ec1-c90c-42d5-c69b-4fbef8babf07"
      },
      "execution_count": 37,
      "outputs": [
        {
          "output_type": "stream",
          "name": "stdout",
          "text": [
            "3\n",
            "4\n",
            "1 2 3 \n",
            "1 1 1 1\n",
            "2 2 2 2\n",
            "3 3 3 3\n"
          ]
        }
      ]
    },
    {
      "cell_type": "markdown",
      "source": [
        "Matrix11. Дана матрица размера M  N. Вывести ее элементы в следующем по- рядке: первая строка слева направо, вторая строка справа налево, третья строка слева направо, четвертая строка справа налево и т. д."
      ],
      "metadata": {
        "id": "D5REm-aluaNT"
      }
    },
    {
      "cell_type": "code",
      "source": [
        "M, N = map(int, input().split())\n",
        "matrix = [input().split() for _ in range(M)]\n",
        "for i in range(M):\n",
        "    if i % 2 == 0:\n",
        "        print(\" \".join(matrix[i]))\n",
        "    else:\n",
        "        print(\" \".join(matrix[i][::-1]))"
      ],
      "metadata": {
        "colab": {
          "base_uri": "https://localhost:8080/"
        },
        "id": "5TR7uu5Judfr",
        "outputId": "66a599fc-01ab-4643-80ff-1bb0be81c680"
      },
      "execution_count": 38,
      "outputs": [
        {
          "output_type": "stream",
          "name": "stdout",
          "text": [
            "3 4\n",
            "1 2 3 4\n",
            "5 6 7 8\n",
            "9 10 11 12\n",
            "1 2 3 4\n",
            "8 7 6 5\n",
            "9 10 11 12\n"
          ]
        }
      ]
    },
    {
      "cell_type": "markdown",
      "source": [
        "Matrix17. Дана матрица размера M  N и целое число K (1  K  M). Найти сум- му и произведение элементов K-й строки данной матрицы."
      ],
      "metadata": {
        "id": "ABaPdLGRu3GH"
      }
    },
    {
      "cell_type": "code",
      "source": [
        "M, N = map(int, input().split())\n",
        "matrix = [list(map(int, input().split())) for _ in range(M)]\n",
        "K = int(input()) - 1\n",
        "row = matrix[K]\n",
        "total = sum(row)\n",
        "product = 1\n",
        "for num in row:\n",
        "    product *= num\n",
        "print(total, product)"
      ],
      "metadata": {
        "colab": {
          "base_uri": "https://localhost:8080/"
        },
        "id": "CecGRIThu5of",
        "outputId": "1e824ab7-8516-4154-8dce-efa5a5ed9419"
      },
      "execution_count": 39,
      "outputs": [
        {
          "output_type": "stream",
          "name": "stdout",
          "text": [
            "3 4\n",
            "1 2 3 4\n",
            "5 6 7 8\n",
            "9 10 11 12\n",
            "2\n",
            "26 1680\n"
          ]
        }
      ]
    },
    {
      "cell_type": "markdown",
      "source": [
        "Matrix26. Дана матрица размера M  N. Найти номер ее столбца с наименьшим произведением элементов и вывести данный номер, а также значение наи- меньшего произведения."
      ],
      "metadata": {
        "id": "4R9jsGDmvUpx"
      }
    },
    {
      "cell_type": "code",
      "source": [
        "M, N = map(int, input().split())\n",
        "matrix = [list(map(int, input().split())) for _ in range(M)]\n",
        "min_product = float('inf')\n",
        "min_col_index = -1\n",
        "for j in range(N):\n",
        "    product = 1\n",
        "    for i in range(M):\n",
        "        product *= matrix[i][j]\n",
        "    if product < min_product:\n",
        "        min_product = product\n",
        "        min_col_index = j + 1\n",
        "print(min_col_index, min_product)"
      ],
      "metadata": {
        "colab": {
          "base_uri": "https://localhost:8080/"
        },
        "id": "Nc_eOSj4vbfQ",
        "outputId": "b0d7e638-4850-4696-815a-15cc31511d73"
      },
      "execution_count": 40,
      "outputs": [
        {
          "output_type": "stream",
          "name": "stdout",
          "text": [
            "3 4\n",
            "1 2 3 4\n",
            "5 6 7 8 \n",
            "9 10 11 12\n",
            "1 45\n"
          ]
        }
      ]
    },
    {
      "cell_type": "markdown",
      "source": [
        "Matrix33. Дана целочисленная матрица размера M  N. Найти номер последнего из ее столбцов, содержащих равное количество положительных и отрица- тельных элементов (нулевые элементы матрицы не учитываются). Если та- ких столбцов нет, то вывести 0."
      ],
      "metadata": {
        "id": "nqO4jxphvoXD"
      }
    },
    {
      "cell_type": "code",
      "source": [
        "M, N = map(int, input().split())\n",
        "matrix = [list(map(int, input().split())) for _ in range(M)]\n",
        "result = 0\n",
        "for j in range(N):\n",
        "    pos = neg = 0\n",
        "    for i in range(M):\n",
        "        if matrix[i][j] > 0:\n",
        "            pos += 1\n",
        "        elif matrix[i][j] < 0:\n",
        "            neg += 1\n",
        "    if pos == neg:\n",
        "        result = j + 1\n",
        "print(result)"
      ],
      "metadata": {
        "colab": {
          "base_uri": "https://localhost:8080/"
        },
        "id": "2VjutobKvqUj",
        "outputId": "f1fa566a-6ba6-4c99-f8ff-d433ffb046be"
      },
      "execution_count": 41,
      "outputs": [
        {
          "output_type": "stream",
          "name": "stdout",
          "text": [
            "3 4\n",
            "1 -2 3 0\n",
            "-1 2 -3 4\n",
            "0 0 -1 1\n",
            "2\n"
          ]
        }
      ]
    }
  ]
}