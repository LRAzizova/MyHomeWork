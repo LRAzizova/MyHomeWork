{
  "nbformat": 4,
  "nbformat_minor": 0,
  "metadata": {
    "colab": {
      "provenance": [],
      "authorship_tag": "ABX9TyP5ExreFAklIT5QJUwN1/r0",
      "include_colab_link": true
    },
    "kernelspec": {
      "name": "python3",
      "display_name": "Python 3"
    },
    "language_info": {
      "name": "python"
    }
  },
  "cells": [
    {
      "cell_type": "markdown",
      "metadata": {
        "id": "view-in-github",
        "colab_type": "text"
      },
      "source": [
        "<a href=\"https://colab.research.google.com/github/LRAzizova/MyHomeWork/blob/main/%D0%9F%D0%BE%D0%B2%D1%82%D0%BE%D1%80%D0%B5%D0%BD%D0%B8%D0%B5_04_04_25.ipynb\" target=\"_parent\"><img src=\"https://colab.research.google.com/assets/colab-badge.svg\" alt=\"Open In Colab\"/></a>"
      ]
    },
    {
      "cell_type": "markdown",
      "source": [
        "Begin1. Дана сторона квадрата a. Найти его периметр P = 4·a"
      ],
      "metadata": {
        "id": "lVM65II0ORlq"
      }
    },
    {
      "cell_type": "code",
      "source": [
        "a=float(input('a='))\n",
        "p=4*a\n",
        "print(p)"
      ],
      "metadata": {
        "colab": {
          "base_uri": "https://localhost:8080/"
        },
        "id": "6Nu6yZikOvy5",
        "outputId": "4940ea40-750d-44e5-9f62-ef028e6e7f18"
      },
      "execution_count": 1,
      "outputs": [
        {
          "output_type": "stream",
          "name": "stdout",
          "text": [
            "a=4\n",
            "16.0\n"
          ]
        }
      ]
    },
    {
      "cell_type": "markdown",
      "source": [
        "Begin11. Даны два ненулевых числа. Найти сумму, разность, произведение и частное их модулей."
      ],
      "metadata": {
        "id": "QD3MIE0JPw1b"
      }
    },
    {
      "cell_type": "code",
      "source": [
        "import math\n",
        "a=float(input('a='))\n",
        "b=float(input('b='))\n",
        "s=a+b\n",
        "p=a-b\n",
        "c=a*b\n",
        "d=math.fabs(a)/math.fabs(b)\n",
        "print(s, p, c, d)"
      ],
      "metadata": {
        "colab": {
          "base_uri": "https://localhost:8080/"
        },
        "id": "YDMAnSb5QBWw",
        "outputId": "9bfb7da2-e3c5-4325-ad85-3eb559f271ab"
      },
      "execution_count": 4,
      "outputs": [
        {
          "output_type": "stream",
          "name": "stdout",
          "text": [
            "a=7\n",
            "b=5\n",
            "12.0 2.0 35.0 1.4\n"
          ]
        }
      ]
    },
    {
      "cell_type": "markdown",
      "source": [
        "Begin12. Даны катеты прямоугольного треугольника a и b. Найти его гипоте- нузу c и периметр P:"
      ],
      "metadata": {
        "id": "Y_0qBqEjRmc5"
      }
    },
    {
      "cell_type": "code",
      "source": [
        "import math\n",
        "a=float(input('a='))\n",
        "b=float(input('b='))\n",
        "c=math.sqrt((a**2)+(b**2))\n",
        "p=a+b+c\n",
        "print(c, p)"
      ],
      "metadata": {
        "colab": {
          "base_uri": "https://localhost:8080/"
        },
        "id": "aaQzm2L6RnHR",
        "outputId": "9814d57f-9829-40b3-9f1b-03ef6301393c"
      },
      "execution_count": 7,
      "outputs": [
        {
          "output_type": "stream",
          "name": "stdout",
          "text": [
            "a=8\n",
            "b=9\n",
            "12.041594578792296 29.041594578792296\n"
          ]
        }
      ]
    },
    {
      "cell_type": "markdown",
      "source": [
        "Begin9. Даны два неотрицательных числа a и b. Найти их среднее геометриче-\n",
        "ское, то есть квадратный корень из их произведения:\t.\n",
        "\n"
      ],
      "metadata": {
        "id": "8UbkqaajSP6h"
      }
    },
    {
      "cell_type": "code",
      "source": [
        "import math\n",
        "a=float(input('a='))\n",
        "b=float(input('b='))\n",
        "c=math.sqrt(a*b)\n",
        "print(c)"
      ],
      "metadata": {
        "colab": {
          "base_uri": "https://localhost:8080/"
        },
        "id": "2cVC35KDSYKD",
        "outputId": "82a0d504-c3b0-42c3-fc3e-46cae64d8eef"
      },
      "execution_count": 9,
      "outputs": [
        {
          "output_type": "stream",
          "name": "stdout",
          "text": [
            "a=6\n",
            "b=5\n",
            "5.477225575051661\n"
          ]
        }
      ]
    },
    {
      "cell_type": "markdown",
      "source": [
        "Begin7. Найти длину окружности L и площадь круга S заданного радиуса R:\n",
        "L = 2··R,\tS = ·R2.\n"
      ],
      "metadata": {
        "id": "No296_r7Srqa"
      }
    },
    {
      "cell_type": "code",
      "source": [
        "r=float(input('r='))\n",
        "l=2*3.14*r\n",
        "s=3.14*(r**2)\n",
        "print(l, s)"
      ],
      "metadata": {
        "colab": {
          "base_uri": "https://localhost:8080/"
        },
        "id": "Rx967u1xSum-",
        "outputId": "c31ee1d3-c6b9-4268-a52c-6ad6146d66bf"
      },
      "execution_count": 13,
      "outputs": [
        {
          "output_type": "stream",
          "name": "stdout",
          "text": [
            "r=6\n",
            "37.68 113.04\n"
          ]
        }
      ]
    },
    {
      "cell_type": "markdown",
      "source": [
        "Integer1. Дано расстояние L в сантиметрах. Используя операцию деления наце- ло, найти количество полных метров в нем (1 метр = 100 см)."
      ],
      "metadata": {
        "id": "YC3ZHpc2UIIM"
      }
    },
    {
      "cell_type": "code",
      "source": [
        "l=float(input('l='))\n",
        "d=l//100\n",
        "print(d)"
      ],
      "metadata": {
        "colab": {
          "base_uri": "https://localhost:8080/"
        },
        "id": "9IPIlV_cUqZC",
        "outputId": "489dd153-8189-4a9b-bc16-f57a9a7ff2e5"
      },
      "execution_count": 14,
      "outputs": [
        {
          "output_type": "stream",
          "name": "stdout",
          "text": [
            "l=869\n",
            "8.0\n"
          ]
        }
      ]
    },
    {
      "cell_type": "markdown",
      "source": [
        "Integer3. Дан размер файла в байтах. Используя операцию деления нацело, найти количество полных килобайтов, которые занимает данный файл (1 килобайт = 1024 байта)."
      ],
      "metadata": {
        "id": "1liWFNiVVCBl"
      }
    },
    {
      "cell_type": "code",
      "source": [
        "f=float(input('f='))\n",
        "b=f//1024\n",
        "print(b)"
      ],
      "metadata": {
        "colab": {
          "base_uri": "https://localhost:8080/"
        },
        "id": "5XjK8z1tVDud",
        "outputId": "9a954348-3fdd-4e0f-b272-daf97e116121"
      },
      "execution_count": 15,
      "outputs": [
        {
          "output_type": "stream",
          "name": "stdout",
          "text": [
            "f=8944\n",
            "8.0\n"
          ]
        }
      ]
    },
    {
      "cell_type": "markdown",
      "source": [
        "Integer6. Дано двузначное число. Вывести вначале его левую цифру (десятки), а затем — его правую цифру (единицы). Для нахождения десятков исполь- зовать операцию деления нацело, для нахождения единиц — операцию взятия остатка от деления."
      ],
      "metadata": {
        "id": "7Ie0zolWVQbi"
      }
    },
    {
      "cell_type": "code",
      "source": [
        "n=int(input('n='))\n",
        "d=n//10\n",
        "u=n%10\n",
        "print(d, u)"
      ],
      "metadata": {
        "colab": {
          "base_uri": "https://localhost:8080/"
        },
        "id": "K17BSurlVR_d",
        "outputId": "b1c3ba0b-00f1-4b71-a59f-3e597d99df9b"
      },
      "execution_count": 17,
      "outputs": [
        {
          "output_type": "stream",
          "name": "stdout",
          "text": [
            "n=67\n",
            "6 7\n"
          ]
        }
      ]
    },
    {
      "cell_type": "markdown",
      "source": [
        "Integer11. Дано трехзначное число. Найти сумму и произведение его цифр."
      ],
      "metadata": {
        "id": "ulU_VkkxVrow"
      }
    },
    {
      "cell_type": "code",
      "source": [
        "n=int(input('n='))\n",
        "a=n//100\n",
        "b=(n//10)%10\n",
        "c=n%10\n",
        "s=a+b+c\n",
        "p=a*b*c\n",
        "print(s, p)"
      ],
      "metadata": {
        "colab": {
          "base_uri": "https://localhost:8080/"
        },
        "id": "CJXRBD22Vva9",
        "outputId": "e56b644b-aa56-4238-ab90-b3e3a1786dc7"
      },
      "execution_count": 20,
      "outputs": [
        {
          "output_type": "stream",
          "name": "stdout",
          "text": [
            "n=123\n",
            "6 6\n"
          ]
        }
      ]
    },
    {
      "cell_type": "markdown",
      "source": [
        "Integer19. С начала суток прошло N секунд (N — целое). Найти количество полных минут, прошедших с начала суток."
      ],
      "metadata": {
        "id": "Afr0fgkZWToF"
      }
    },
    {
      "cell_type": "code",
      "source": [
        "n=int(input('n='))\n",
        "m=n//60\n",
        "print(m)\n"
      ],
      "metadata": {
        "colab": {
          "base_uri": "https://localhost:8080/"
        },
        "id": "ZDYcYSA9WWz1",
        "outputId": "8f230788-229c-4fb0-ef7f-d13ad675102e"
      },
      "execution_count": 22,
      "outputs": [
        {
          "output_type": "stream",
          "name": "stdout",
          "text": [
            "n=976\n",
            "16\n"
          ]
        }
      ]
    },
    {
      "cell_type": "markdown",
      "source": [
        "Boolean1. Дано целое число A. Проверить истинность высказывания: «Число\n",
        "A является положительным».\n"
      ],
      "metadata": {
        "id": "ADJispGmXYYD"
      }
    },
    {
      "cell_type": "code",
      "source": [
        "a=int(input('a='))\n",
        "print(a>0)\n"
      ],
      "metadata": {
        "colab": {
          "base_uri": "https://localhost:8080/"
        },
        "id": "lZt6bRqqXyRa",
        "outputId": "803c7973-1904-45a1-ba2b-95c4024db286"
      },
      "execution_count": 24,
      "outputs": [
        {
          "output_type": "stream",
          "name": "stdout",
          "text": [
            "a=-57\n",
            "False\n"
          ]
        }
      ]
    },
    {
      "cell_type": "markdown",
      "source": [
        "Boolean7. Даны три целых числа: A, B, C. Проверить истинность высказыва- ния: «Число B находится между числами A и C»."
      ],
      "metadata": {
        "id": "EuEKq8NFYNHC"
      }
    },
    {
      "cell_type": "code",
      "source": [
        "a=int(input('a='))\n",
        "b=int(input('b='))\n",
        "c=int(input('c='))\n",
        "print(a<b<c)"
      ],
      "metadata": {
        "colab": {
          "base_uri": "https://localhost:8080/"
        },
        "id": "Czp8A5HKYOn3",
        "outputId": "41a34221-b172-421a-c9b3-00f4a277f439"
      },
      "execution_count": 25,
      "outputs": [
        {
          "output_type": "stream",
          "name": "stdout",
          "text": [
            "a=6\n",
            "b=4\n",
            "c=7\n",
            "False\n"
          ]
        }
      ]
    },
    {
      "cell_type": "markdown",
      "source": [
        "Boolean20. Дано трехзначное число. Проверить истинность высказывания:\n",
        "«Все цифры данного числа различны».\n"
      ],
      "metadata": {
        "id": "IrCUV-dcZDj2"
      }
    },
    {
      "cell_type": "code",
      "source": [
        "n=int(input('a='))\n",
        "a=n//100\n",
        "b=(n//10)%10\n",
        "c=n%10\n",
        "print(a!=b!=c)"
      ],
      "metadata": {
        "colab": {
          "base_uri": "https://localhost:8080/"
        },
        "id": "CuoIvrOGZEBA",
        "outputId": "bd5d02c0-9eb9-426a-86ac-cc95d0e1cb7a"
      },
      "execution_count": 27,
      "outputs": [
        {
          "output_type": "stream",
          "name": "stdout",
          "text": [
            "a=887\n",
            "False\n"
          ]
        }
      ]
    },
    {
      "cell_type": "markdown",
      "source": [
        "Boolean21. Дано трехзначное число. Проверить истинность высказывания:\n",
        "«Цифры данного числа образуют возрастающую последовательность».\n"
      ],
      "metadata": {
        "id": "keADDXCzZZJO"
      }
    },
    {
      "cell_type": "code",
      "source": [
        "n=int(input('a='))\n",
        "a=n//100\n",
        "b=(n//10)%10\n",
        "c=n%10\n",
        "print(a<b<c)"
      ],
      "metadata": {
        "colab": {
          "base_uri": "https://localhost:8080/"
        },
        "id": "vLkG5KbMZa9a",
        "outputId": "efe0c7c0-db7b-4115-ce0c-b062d06b9da0"
      },
      "execution_count": 29,
      "outputs": [
        {
          "output_type": "stream",
          "name": "stdout",
          "text": [
            "a=583\n",
            "False\n"
          ]
        }
      ]
    },
    {
      "cell_type": "markdown",
      "source": [
        "Boolean32. Даны целые числа a, b, c, являющиеся сторонами некоторого тре- угольника. Проверить истинность высказывания: «Треугольник со сторо- нами a, b, c является прямоугольным»."
      ],
      "metadata": {
        "id": "1d3MqaOgZmuL"
      }
    },
    {
      "cell_type": "code",
      "source": [
        "a=int(input('a='))\n",
        "b=int(input('b='))\n",
        "c=int(input('c='))\n",
        "print(\"+\" if a**2 + b**2 == c**2 else \"-\")"
      ],
      "metadata": {
        "colab": {
          "base_uri": "https://localhost:8080/"
        },
        "id": "H6EtMr9GZnYl",
        "outputId": "76beea0c-d409-47c2-bd68-e584ab9d0a34"
      },
      "execution_count": 31,
      "outputs": [
        {
          "output_type": "stream",
          "name": "stdout",
          "text": [
            "a=3\n",
            "b=4\n",
            "c=5\n",
            "+\n"
          ]
        }
      ]
    },
    {
      "cell_type": "markdown",
      "source": [
        "If1. Дано целое число. Если оно является положительным, то прибавить к не- му 1; в противном случае не изменять его. Вывести полученное число."
      ],
      "metadata": {
        "id": "vm4yBOEDastz"
      }
    },
    {
      "cell_type": "code",
      "source": [
        "a=int(input('a='))\n",
        "if a>0:\n",
        "  a=a+1\n",
        "\n",
        "print(a)"
      ],
      "metadata": {
        "colab": {
          "base_uri": "https://localhost:8080/"
        },
        "id": "iJPOrlc2bD9M",
        "outputId": "cb1bd46a-6cef-4f1c-c1c6-cf1f1bf7f9b3"
      },
      "execution_count": 34,
      "outputs": [
        {
          "output_type": "stream",
          "name": "stdout",
          "text": [
            "a=-9\n",
            "-9\n"
          ]
        }
      ]
    },
    {
      "cell_type": "markdown",
      "source": [
        "If8. Даны два числа. Вывести вначале большее, а затем меньшее из них."
      ],
      "metadata": {
        "id": "YE5rtYsRbx8K"
      }
    },
    {
      "cell_type": "code",
      "source": [
        "a=int(input('a='))\n",
        "b=int(input('b='))\n",
        "if a>b:\n",
        "    print(a)\n",
        "    print(b)\n",
        "else:\n",
        "    print(b)\n",
        "    print(a)"
      ],
      "metadata": {
        "colab": {
          "base_uri": "https://localhost:8080/"
        },
        "id": "gB7zttT6bzsl",
        "outputId": "6fbb5497-45b4-495c-9072-a1a070be10a6"
      },
      "execution_count": 35,
      "outputs": [
        {
          "output_type": "stream",
          "name": "stdout",
          "text": [
            "a=9\n",
            "b=7\n",
            "9\n",
            "7\n"
          ]
        }
      ]
    },
    {
      "cell_type": "markdown",
      "source": [
        "If12. Даны три числа. Найти наименьшее из них."
      ],
      "metadata": {
        "id": "o94eFEXIdCqo"
      }
    },
    {
      "cell_type": "code",
      "source": [
        "a=int(input('a='))\n",
        "b=int(input('b='))\n",
        "c=int(input('c='))\n",
        "mn=a\n",
        "if mn>b:\n",
        "  mn=b\n",
        "if mn>c:\n",
        "  mn=c\n",
        "print (mn)"
      ],
      "metadata": {
        "colab": {
          "base_uri": "https://localhost:8080/"
        },
        "id": "MKXkA4UYdEaN",
        "outputId": "0b0a99f0-a2b2-4054-8ee0-331d2892ffe8"
      },
      "execution_count": 38,
      "outputs": [
        {
          "output_type": "stream",
          "name": "stdout",
          "text": [
            "a=7\n",
            "b=8\n",
            "c=1\n",
            "1\n"
          ]
        }
      ]
    },
    {
      "cell_type": "markdown",
      "source": [
        "If18. Даны три целых числа, одно из которых отлично от двух других, равных между собой. Определить порядковый номер числа, отличного от осталь- ных."
      ],
      "metadata": {
        "id": "1b-EFuqWeJuP"
      }
    },
    {
      "cell_type": "code",
      "source": [
        "a=int(input('a='))\n",
        "b=int(input('b='))\n",
        "c=int(input('c='))\n",
        "\n",
        "if a==b:\n",
        "    print(3)\n",
        "elif a==c:\n",
        "    print(2)\n",
        "else:\n",
        "    print(1)"
      ],
      "metadata": {
        "colab": {
          "base_uri": "https://localhost:8080/"
        },
        "id": "uhFWtY85eLpN",
        "outputId": "1c2f2303-f2e5-46c4-a841-15c3fa278509"
      },
      "execution_count": 42,
      "outputs": [
        {
          "output_type": "stream",
          "name": "stdout",
          "text": [
            "a=8\n",
            "b=5\n",
            "c=8\n",
            "2\n"
          ]
        }
      ]
    },
    {
      "cell_type": "markdown",
      "source": [
        "If24. Для данного вещественного x найти значение следующей функции f, при- нимающей вещественные значения:\n",
        "\n",
        "f(x) =\n",
        "2·sin(x),\tесли x > 0,\n",
        "\t6 – x,\tесли x  0.\n"
      ],
      "metadata": {
        "id": "5jYyUg9YfgKg"
      }
    },
    {
      "cell_type": "code",
      "source": [
        "import math\n",
        "\n",
        "x=float(input('x='))\n",
        "if x>0:\n",
        "    r= 2*math.sin(x)\n",
        "elif x<=0:\n",
        "    r=6-x\n",
        "\n",
        "print(r)"
      ],
      "metadata": {
        "colab": {
          "base_uri": "https://localhost:8080/"
        },
        "id": "LChSmJkMfiFE",
        "outputId": "2ca510c9-86ed-4d34-89e7-6e46f6ae3437"
      },
      "execution_count": 43,
      "outputs": [
        {
          "output_type": "stream",
          "name": "stdout",
          "text": [
            "x=5\n",
            "-1.917848549326277\n"
          ]
        }
      ]
    },
    {
      "cell_type": "markdown",
      "source": [
        "For1. Даны целые числа K и N (N > 0). Вывести N раз число K."
      ],
      "metadata": {
        "id": "vq43ynlpldfL"
      }
    },
    {
      "cell_type": "code",
      "source": [
        "K = int(input('K='))\n",
        "N = int(input('N='))\n",
        "\n",
        "for i in range(K):\n",
        "    print(N, end='')"
      ],
      "metadata": {
        "colab": {
          "base_uri": "https://localhost:8080/"
        },
        "id": "nzsccjtglhwf",
        "outputId": "444d347e-ebd9-4de4-b1b1-052bebcf9d76"
      },
      "execution_count": 46,
      "outputs": [
        {
          "output_type": "stream",
          "name": "stdout",
          "text": [
            "K=9\n",
            "N=4\n",
            "444444444"
          ]
        }
      ]
    },
    {
      "cell_type": "markdown",
      "source": [
        "For10. Дано целое число N (> 0). Найти сумму\n",
        "1 + 1/2 + 1/3 + … + 1/N\n",
        "(вещественное число).\n"
      ],
      "metadata": {
        "id": "Z9f0BEiWmha1"
      }
    },
    {
      "cell_type": "code",
      "source": [
        "N = int(input('N='))\n",
        "s = 0\n",
        "\n",
        "for i in range(1, N + 1):\n",
        "    s = s + 1 / i\n",
        "\n",
        "print(s)"
      ],
      "metadata": {
        "colab": {
          "base_uri": "https://localhost:8080/"
        },
        "id": "WfCs-N1nmiYE",
        "outputId": "d842f432-671c-420f-8326-947b3e166cc6"
      },
      "execution_count": 47,
      "outputs": [
        {
          "output_type": "stream",
          "name": "stdout",
          "text": [
            "N=6\n",
            "2.4499999999999997\n"
          ]
        }
      ]
    },
    {
      "cell_type": "markdown",
      "source": [
        "For16. Дано вещественное число A и целое число N (> 0). Используя один цикл, вывести все целые степени числа A от 1 до N."
      ],
      "metadata": {
        "id": "IoaQOUc4nOj4"
      }
    },
    {
      "cell_type": "code",
      "source": [
        "A = float(input('A='))\n",
        "N = int(input('N='))\n",
        "\n",
        "for i in range(1, N + 1):\n",
        "    print(A**i, end='')"
      ],
      "metadata": {
        "colab": {
          "base_uri": "https://localhost:8080/"
        },
        "id": "2M2pfz58nU7Q",
        "outputId": "a28ea667-6fff-4d1a-8af3-ded1f5b961a7"
      },
      "execution_count": 50,
      "outputs": [
        {
          "output_type": "stream",
          "name": "stdout",
          "text": [
            "A=9\n",
            "N=7\n",
            "9.081.0729.06561.059049.0531441.04782969.0"
          ]
        }
      ]
    },
    {
      "cell_type": "markdown",
      "source": [
        "For36. Даны целые положительные числа N и K. Найти сумму\n",
        "1K + 2K + … + NK.\n",
        "Чтобы избежать целочисленного переполнения, вычислять слагаемые этой суммы с помощью вещественной переменной и выводить результат как вещественное число.\n"
      ],
      "metadata": {
        "id": "3L4o01_ioaZv"
      }
    },
    {
      "cell_type": "code",
      "source": [
        "N = int(input('N='))\n",
        "K = int(input('K='))\n",
        "s = 0.0\n",
        "\n",
        "for i in range(1, N + 1):\n",
        "    s = s + float(i ** K)\n",
        "\n",
        "print(s)"
      ],
      "metadata": {
        "colab": {
          "base_uri": "https://localhost:8080/"
        },
        "id": "025_Jw0coa7C",
        "outputId": "7209152a-3b77-46c1-ffd7-12cfe58a6d06"
      },
      "execution_count": 52,
      "outputs": [
        {
          "output_type": "stream",
          "name": "stdout",
          "text": [
            "N=8\n",
            "K=5\n",
            "61776.0\n"
          ]
        }
      ]
    },
    {
      "cell_type": "markdown",
      "source": [
        "For39. Даны целые положительные числа A и B (A < B). Вывести все целые числа от A до B включительно; при этом каждое число должно выводиться столько раз, каково его значение (например, число 3 выводится 3 раза)."
      ],
      "metadata": {
        "id": "kNIjuCPpowOD"
      }
    },
    {
      "cell_type": "code",
      "source": [
        "A = int(input('A='))\n",
        "B = int(input('B='))\n",
        "\n",
        "for i in range(A, B + 1):\n",
        "    for j in range(i):\n",
        "        print(i, end='  ')"
      ],
      "metadata": {
        "colab": {
          "base_uri": "https://localhost:8080/"
        },
        "id": "3CYyKQTvoydM",
        "outputId": "a4fb28ca-a7d9-475a-8f99-7ad9f8dea1ea"
      },
      "execution_count": 57,
      "outputs": [
        {
          "output_type": "stream",
          "name": "stdout",
          "text": [
            "A=9\n",
            "B=11\n",
            "9  9  9  9  9  9  9  9  9  10  10  10  10  10  10  10  10  10  10  11  11  11  11  11  11  11  11  11  11  11  "
          ]
        }
      ]
    },
    {
      "cell_type": "markdown",
      "source": [
        "While1. Даны положительные числа A и B (A > B). На отрезке длины A разме- щено максимально возможное количество отрезков длины B (без наложе- ний). Не используя операции умножения и деления, найти длину незанятой части отрезка A."
      ],
      "metadata": {
        "id": "RXa0LPvap7Hs"
      }
    },
    {
      "cell_type": "code",
      "source": [
        "A = int(input('A='))\n",
        "B = int(input('B='))\n",
        "s = 0\n",
        "\n",
        "while A >= B:\n",
        "    A = A - B\n",
        "    s = s + 1\n",
        "\n",
        "print(A, s, end='  ')"
      ],
      "metadata": {
        "colab": {
          "base_uri": "https://localhost:8080/"
        },
        "id": "UWituxfnqGYl",
        "outputId": "d23ee340-d2f9-49ea-ece8-d0c592234285"
      },
      "execution_count": 63,
      "outputs": [
        {
          "output_type": "stream",
          "name": "stdout",
          "text": [
            "A=10\n",
            "B=3\n",
            "1 3  "
          ]
        }
      ]
    },
    {
      "cell_type": "markdown",
      "source": [
        "While7. Дано целое число N (> 0). Найти наименьшее целое положительное число K, квадрат которого превосходит N: K2 > N. Функцию извлечения квадратного корня не использовать."
      ],
      "metadata": {
        "id": "1kYoxPZfqeAV"
      }
    },
    {
      "cell_type": "code",
      "source": [
        "N = int(input('N='))\n",
        "K = 1\n",
        "\n",
        "while K * K <= N:\n",
        "    K = K + 1\n",
        "\n",
        "print(K)"
      ],
      "metadata": {
        "colab": {
          "base_uri": "https://localhost:8080/"
        },
        "id": "_YLV9IY0qgcO",
        "outputId": "217d391e-0be2-4d00-94df-a40cfb7d1f41"
      },
      "execution_count": 59,
      "outputs": [
        {
          "output_type": "stream",
          "name": "stdout",
          "text": [
            "N=36\n",
            "7\n"
          ]
        }
      ]
    },
    {
      "cell_type": "markdown",
      "source": [
        "While22. Дано целое число N (> 1). Если оно является простым, то есть не имеет положительных делителей, кроме 1 и самого себя, то вывести True, иначе вывести False."
      ],
      "metadata": {
        "id": "VgROswYbqoE5"
      }
    },
    {
      "cell_type": "code",
      "source": [
        "N = int(input('N='))\n",
        "i = 2\n",
        "p = True\n",
        "\n",
        "while i * i <= N:\n",
        "    if N % i == 0:\n",
        "        p = False\n",
        "        break\n",
        "    i = i + 1\n",
        "\n",
        "print(p)"
      ],
      "metadata": {
        "colab": {
          "base_uri": "https://localhost:8080/"
        },
        "id": "sF3hJUWBqqRi",
        "outputId": "d0f90711-8049-49c1-8d72-768dc145f367"
      },
      "execution_count": 66,
      "outputs": [
        {
          "output_type": "stream",
          "name": "stdout",
          "text": [
            "N=13\n",
            "True\n"
          ]
        }
      ]
    },
    {
      "cell_type": "markdown",
      "source": [
        "While26. Дано целое число N (> 1), являющееся числом Фибоначчи: N = FK (оп- ределение чисел Фибоначчи дано в задании While24). Найти целые числа FK–1 и FK+1 — предыдущее и последующее числа Фибоначчи."
      ],
      "metadata": {
        "id": "-n5o1D7_sz5w"
      }
    },
    {
      "cell_type": "code",
      "source": [
        "N = int(input('N='))\n",
        "\n",
        "fab1 = 1\n",
        "fab2 = 1\n",
        "while fab2<N:\n",
        "    fab3 = fab1 + fab2\n",
        "    fab1 = fab2\n",
        "    fab2 = fab3\n",
        "\n",
        "print(fab1,fab1+fab2)"
      ],
      "metadata": {
        "colab": {
          "base_uri": "https://localhost:8080/"
        },
        "id": "cEEwuRfis2Dz",
        "outputId": "ad58720d-4ecf-4b42-e9d9-24b957b0e145"
      },
      "execution_count": 81,
      "outputs": [
        {
          "output_type": "stream",
          "name": "stdout",
          "text": [
            "N=13\n",
            "8 21\n"
          ]
        }
      ]
    },
    {
      "cell_type": "markdown",
      "source": [
        "While30. Даны положительные числа A, B, C. На прямоугольнике размера A  B размещено максимально возможное количество квадратов со стороной C (без наложений). Найти количество квадратов, размещенных на прямо- угольнике. Операции умножения и деления не использовать."
      ],
      "metadata": {
        "id": "fD-v4Hh_s-ek"
      }
    },
    {
      "cell_type": "code",
      "source": [
        "a = int(input('A='))\n",
        "b = int(input('B='))\n",
        "c = int(input('C='))\n",
        "k1=0\n",
        "k2=0\n",
        "while a>=c:\n",
        "  a=a-c\n",
        "  k1+=1\n",
        "\n",
        "while b>=c:\n",
        "  b=b-c\n",
        "  k2+=1\n",
        "\n",
        "print(k1*k2)"
      ],
      "metadata": {
        "colab": {
          "base_uri": "https://localhost:8080/"
        },
        "id": "ofFjEunztAUu",
        "outputId": "3d0fbaae-33cf-4267-e0f0-9e8d97559e37"
      },
      "execution_count": 83,
      "outputs": [
        {
          "output_type": "stream",
          "name": "stdout",
          "text": [
            "A=7\n",
            "B=11\n",
            "C=2\n",
            "15\n"
          ]
        }
      ]
    },
    {
      "cell_type": "markdown",
      "source": [
        "While21. Дано целое число N (> 0). С помощью операций деления нацело и взя- тия остатка от деления определить, имеются ли в записи числа N нечетные цифры. Если имеются, то вывести True, если нет — вывести False."
      ],
      "metadata": {
        "id": "ilSJZYLV0cEQ"
      }
    },
    {
      "cell_type": "code",
      "source": [
        "n = int(input('n='))\n",
        "y=False\n",
        "while n!=0:\n",
        "  b=n%10\n",
        "  if b%2==1:\n",
        "    y=True\n",
        "  n=n//10\n",
        "print(y)"
      ],
      "metadata": {
        "colab": {
          "base_uri": "https://localhost:8080/"
        },
        "id": "SXSpeDsB0Zgv",
        "outputId": "b8417449-b571-4b87-f189-e11461c9250f"
      },
      "execution_count": 87,
      "outputs": [
        {
          "output_type": "stream",
          "name": "stdout",
          "text": [
            "n=478\n",
            "True\n"
          ]
        }
      ]
    }
  ]
}