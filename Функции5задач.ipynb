{
  "nbformat": 4,
  "nbformat_minor": 0,
  "metadata": {
    "colab": {
      "provenance": [],
      "authorship_tag": "ABX9TyOBR17JuGx1NbtoixBTPyxs",
      "include_colab_link": true
    },
    "kernelspec": {
      "name": "python3",
      "display_name": "Python 3"
    },
    "language_info": {
      "name": "python"
    }
  },
  "cells": [
    {
      "cell_type": "markdown",
      "metadata": {
        "id": "view-in-github",
        "colab_type": "text"
      },
      "source": [
        "<a href=\"https://colab.research.google.com/github/LRAzizova/MyHomeWork/blob/main/%D0%A4%D1%83%D0%BD%D0%BA%D1%86%D0%B8%D0%B85%D0%B7%D0%B0%D0%B4%D0%B0%D1%87.ipynb\" target=\"_parent\"><img src=\"https://colab.research.google.com/assets/colab-badge.svg\" alt=\"Open In Colab\"/></a>"
      ]
    },
    {
      "cell_type": "markdown",
      "source": [
        "Proc8 Описать процедуру AddRightDigit(D, K), добавляющую к целому поло- жительному числу K справа цифру D (D — входной параметр целого типа, лежащий в диапазоне 0–9, K — параметр целого типа, являющийся одно- временно входным и выходным). С помощью этой процедуры последова- тельно добавить к данному числу K справа данные цифры D1 и D2, выводя результат каждого добавления."
      ],
      "metadata": {
        "id": "kQK7K90SiyV7"
      }
    },
    {
      "cell_type": "code",
      "source": [
        "def AddRightDigit(D, K):\n",
        "    return K * 10 + D\n",
        "\n",
        "K = int(input('K='))\n",
        "D1 = int(input('D1='))\n",
        "D2 = int(input('D2='))\n",
        "\n",
        "K = AddRightDigit(D1, K)\n",
        "print(K)\n",
        "K = AddRightDigit(D2, K)\n",
        "print(K)"
      ],
      "metadata": {
        "colab": {
          "base_uri": "https://localhost:8080/"
        },
        "id": "_bYhrhGxjm7W",
        "outputId": "6f63cf8d-f804-41c2-e925-0e1df287979f"
      },
      "execution_count": null,
      "outputs": [
        {
          "output_type": "stream",
          "name": "stdout",
          "text": [
            "K=6\n",
            "D1=4\n",
            "D2=8\n",
            "64\n",
            "648\n"
          ]
        }
      ]
    },
    {
      "cell_type": "markdown",
      "source": [
        "Proc10. Описать процедуру Swap(X, Y), меняющую содержимое переменных X и Y (X и Y — вещественные параметры, являющиеся одновременно вход- ными и выходными). С ее помощью для данных переменных A, B, C, D по- следовательно поменять содержимое следующих пар: A и B, C и D, B и C и вывести новые значения A, B, C, D."
      ],
      "metadata": {
        "id": "WhTgAQuvkPbd"
      }
    },
    {
      "cell_type": "code",
      "source": [
        "def Swap(X, Y):\n",
        "    X, Y = Y, X\n",
        "    return X, Y\n",
        "\n",
        "A = float(input('A='))\n",
        "B = float(input('B='))\n",
        "C = float(input('C='))\n",
        "D = float(input('D='))\n",
        "\n",
        "A, B = Swap(A, B)\n",
        "C, D = Swap(C, D)\n",
        "B, C = Swap(B, C)\n",
        "\n",
        "print(A, B, C, D)"
      ],
      "metadata": {
        "colab": {
          "base_uri": "https://localhost:8080/"
        },
        "id": "5zaROJiNkR-K",
        "outputId": "b44d96bc-87a3-4c3a-88ee-83ff4f40a06e"
      },
      "execution_count": null,
      "outputs": [
        {
          "output_type": "stream",
          "name": "stdout",
          "text": [
            "A=6\n",
            "B=4\n",
            "C=7\n",
            "D=2\n",
            "4.0 2.0 6.0 7.0\n"
          ]
        }
      ]
    },
    {
      "cell_type": "markdown",
      "source": [
        "Proc11. Описать процедуру Minmax(X, Y), записывающую в переменную X ми- нимальное из значений X и Y, а в переменную Y — максимальное из этих значений (X и Y — вещественные параметры, являющиеся одновременно входными и выходными). Используя четыре вызова этой процедуры, найти минимальное   и   максимальное   из   данных   чисел   A,   B, C, D."
      ],
      "metadata": {
        "id": "FH5mnsxJkzID"
      }
    },
    {
      "cell_type": "code",
      "source": [
        "def Minmax(X, Y):\n",
        "    if X > Y:\n",
        "        X, Y = Y, X\n",
        "    return X, Y\n",
        "\n",
        "A = float(input('A='))\n",
        "B = float(input('B='))\n",
        "C = float(input('C='))\n",
        "D = float(input('D='))\n",
        "\n",
        "A, B = Minmax(A, B)\n",
        "C, D = Minmax(C, D)\n",
        "A, C = Minmax(A, C)\n",
        "B, D = Minmax(B, D)\n",
        "\n",
        "print(f'Минимум: {A}, Максимум: {D}')"
      ],
      "metadata": {
        "colab": {
          "base_uri": "https://localhost:8080/"
        },
        "id": "7CikxfFTk1RV",
        "outputId": "b9f16559-95ef-4a63-b481-e0bbf67e0177"
      },
      "execution_count": null,
      "outputs": [
        {
          "output_type": "stream",
          "name": "stdout",
          "text": [
            "A=89\n",
            "B=76\n",
            "C=45\n",
            "D=31\n",
            "Минимум: 31.0, Максимум: 89.0\n"
          ]
        }
      ]
    },
    {
      "cell_type": "markdown",
      "source": [
        "Proc12. Описать процедуру SortInc3(A, B, C), меняющую содержимое перемен- ных A, B, C таким образом, чтобы их значения оказались упорядоченными по возрастанию (A, B, C — вещественные параметры, являющиеся одно- временно входными и выходными). С помощью этой процедуры упорядо- чить по возрастанию два данных набора из трех чисел: (A1, B1, C1) и (A2, B2, C2)."
      ],
      "metadata": {
        "id": "PmbuHkOWmH-l"
      }
    },
    {
      "cell_type": "code",
      "source": [
        "def SortInc3(A, B, C):\n",
        "    if A > B:\n",
        "        A, B = B, A\n",
        "    if B > C:\n",
        "        B, C = C, B\n",
        "    if A > B:\n",
        "        A, B = B, A\n",
        "    return A, B, C\n",
        "\n",
        "A1 = float(input('A1='))\n",
        "B1 = float(input('B1='))\n",
        "C1 = float(input('C1='))\n",
        "A2 = float(input('A2='))\n",
        "B2 = float(input('B2='))\n",
        "C2 = float(input('C2='))\n",
        "\n",
        "A1, B1, C1 = SortInc3(A1, B1, C1)\n",
        "A2, B2, C2 = SortInc3(A2, B2, C2)\n",
        "\n",
        "print(A1, B1, C1)\n",
        "print(A2, B2, C2)"
      ],
      "metadata": {
        "colab": {
          "base_uri": "https://localhost:8080/"
        },
        "id": "Mty5-NwkmKFV",
        "outputId": "4b384e87-4cdd-4110-fb4b-72b7c8c4fe0a"
      },
      "execution_count": null,
      "outputs": [
        {
          "output_type": "stream",
          "name": "stdout",
          "text": [
            "A1=4\n",
            "B1=7\n",
            "C1=3\n",
            "A2=9\n",
            "B2=2\n",
            "C2=1\n",
            "3.0 4.0 7.0\n",
            "1.0 2.0 9.0\n"
          ]
        }
      ]
    },
    {
      "cell_type": "markdown",
      "source": [
        "Proc13. Описать процедуру SortDec3(A, B, C), меняющую содержимое пере- менных A, B, C таким образом, чтобы их значения оказались упорядочен- ными по убыванию (A, B, C — вещественные параметры, являющиеся од- новременно входными и выходными). С помощью этой процедуры упоря- дочить по убыванию два данных набора из трех чисел: (A1, B1, C1) и (A2, B2, C2)."
      ],
      "metadata": {
        "id": "FJ35I9FnmxNS"
      }
    },
    {
      "cell_type": "code",
      "source": [
        "def SortDec3(A, B, C):\n",
        "    if A < B:\n",
        "        A, B = B, A\n",
        "    if B < C:\n",
        "        B, C = C, B\n",
        "    if A < B:\n",
        "        A, B = B, A\n",
        "    return A, B, C\n",
        "\n",
        "A1 = float(input('A1='))\n",
        "B1 = float(input('B1='))\n",
        "C1 = float(input('C1='))\n",
        "A2 = float(input('A2='))\n",
        "B2 = float(input('B2='))\n",
        "C2 = float(input('C2='))\n",
        "\n",
        "A1, B1, C1 = SortDec3(A1, B1, C1)\n",
        "A2, B2, C2 = SortDec3(A2, B2, C2)\n",
        "\n",
        "print(A1, B1, C1)\n",
        "print(A2, B2, C2)"
      ],
      "metadata": {
        "colab": {
          "base_uri": "https://localhost:8080/"
        },
        "id": "_KpfxcO0mzko",
        "outputId": "958073b0-0a2e-4d93-983b-ed56caaffe69"
      },
      "execution_count": null,
      "outputs": [
        {
          "output_type": "stream",
          "name": "stdout",
          "text": [
            "A1=4\n",
            "B1=8\n",
            "C1=5\n",
            "A2=1\n",
            "B2=6\n",
            "C2=3\n",
            "8.0 5.0 4.0\n",
            "6.0 3.0 1.0\n"
          ]
        }
      ]
    },
    {
      "cell_type": "code",
      "source": [],
      "metadata": {
        "id": "IjdyA5k15fF_"
      },
      "execution_count": null,
      "outputs": []
    }
  ]
}