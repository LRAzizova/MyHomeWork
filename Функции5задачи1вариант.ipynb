{
  "nbformat": 4,
  "nbformat_minor": 0,
  "metadata": {
    "colab": {
      "provenance": [],
      "authorship_tag": "ABX9TyMfIy8FDXtAE3d5Kt29xZ7g",
      "include_colab_link": true
    },
    "kernelspec": {
      "name": "python3",
      "display_name": "Python 3"
    },
    "language_info": {
      "name": "python"
    }
  },
  "cells": [
    {
      "cell_type": "markdown",
      "metadata": {
        "id": "view-in-github",
        "colab_type": "text"
      },
      "source": [
        "<a href=\"https://colab.research.google.com/github/LRAzizova/MyHomeWork/blob/main/%D0%A4%D1%83%D0%BD%D0%BA%D1%86%D0%B8%D0%B85%D0%B7%D0%B0%D0%B4%D0%B0%D1%87%D0%B81%D0%B2%D0%B0%D1%80%D0%B8%D0%B0%D0%BD%D1%82.ipynb\" target=\"_parent\"><img src=\"https://colab.research.google.com/assets/colab-badge.svg\" alt=\"Open In Colab\"/></a>"
      ]
    },
    {
      "cell_type": "markdown",
      "source": [
        "Proc8 Описать процедуру AddRightDigit(D, K), добавляющую к целому поло- жительному числу K справа цифру D (D — входной параметр целого типа, лежащий в диапазоне 0–9, K — параметр целого типа, являющийся одно- временно входным и выходным). С помощью этой процедуры последова- тельно добавить к данному числу K справа данные цифры D1 и D2, выводя результат каждого добавления."
      ],
      "metadata": {
        "id": "kQK7K90SiyV7"
      }
    },
    {
      "cell_type": "code",
      "source": [
        "def AddRightDigit(D, K):\n",
        "    return K * 10 + D\n",
        "\n",
        "K = int(input('K='))\n",
        "D1 = int(input('D1='))\n",
        "D2 = int(input('D2='))\n",
        "\n",
        "K = AddRightDigit(D1, K)\n",
        "print(K)\n",
        "K = AddRightDigit(D2, K)\n",
        "print(K)"
      ],
      "metadata": {
        "colab": {
          "base_uri": "https://localhost:8080/"
        },
        "id": "_bYhrhGxjm7W",
        "outputId": "6f63cf8d-f804-41c2-e925-0e1df287979f"
      },
      "execution_count": null,
      "outputs": [
        {
          "output_type": "stream",
          "name": "stdout",
          "text": [
            "K=6\n",
            "D1=4\n",
            "D2=8\n",
            "64\n",
            "648\n"
          ]
        }
      ]
    },
    {
      "cell_type": "markdown",
      "source": [
        "Proc10. Описать процедуру Swap(X, Y), меняющую содержимое переменных X и Y (X и Y — вещественные параметры, являющиеся одновременно вход- ными и выходными). С ее помощью для данных переменных A, B, C, D по- следовательно поменять содержимое следующих пар: A и B, C и D, B и C и вывести новые значения A, B, C, D."
      ],
      "metadata": {
        "id": "WhTgAQuvkPbd"
      }
    },
    {
      "cell_type": "code",
      "source": [
        "def Swap(X, Y):\n",
        "    X, Y = Y, X\n",
        "    return X, Y\n",
        "\n",
        "A = float(input('A='))\n",
        "B = float(input('B='))\n",
        "C = float(input('C='))\n",
        "D = float(input('D='))\n",
        "\n",
        "A, B = Swap(A, B)\n",
        "C, D = Swap(C, D)\n",
        "B, C = Swap(B, C)\n",
        "\n",
        "print(A, B, C, D)"
      ],
      "metadata": {
        "colab": {
          "base_uri": "https://localhost:8080/"
        },
        "id": "5zaROJiNkR-K",
        "outputId": "b44d96bc-87a3-4c3a-88ee-83ff4f40a06e"
      },
      "execution_count": null,
      "outputs": [
        {
          "output_type": "stream",
          "name": "stdout",
          "text": [
            "A=6\n",
            "B=4\n",
            "C=7\n",
            "D=2\n",
            "4.0 2.0 6.0 7.0\n"
          ]
        }
      ]
    },
    {
      "cell_type": "markdown",
      "source": [
        "Proc11. Описать процедуру Minmax(X, Y), записывающую в переменную X ми- нимальное из значений X и Y, а в переменную Y — максимальное из этих значений (X и Y — вещественные параметры, являющиеся одновременно входными и выходными). Используя четыре вызова этой процедуры, найти минимальное   и   максимальное   из   данных   чисел   A,   B, C, D."
      ],
      "metadata": {
        "id": "FH5mnsxJkzID"
      }
    },
    {
      "cell_type": "code",
      "source": [
        "def Minmax(X, Y):\n",
        "    if X > Y:\n",
        "        X, Y = Y, X\n",
        "    return X, Y\n",
        "\n",
        "A = float(input('A='))\n",
        "B = float(input('B='))\n",
        "C = float(input('C='))\n",
        "D = float(input('D='))\n",
        "\n",
        "A, B = Minmax(A, B)\n",
        "C, D = Minmax(C, D)\n",
        "A, C = Minmax(A, C)\n",
        "B, D = Minmax(B, D)\n",
        "\n",
        "print(f'Минимум: {A}, Максимум: {D}')"
      ],
      "metadata": {
        "colab": {
          "base_uri": "https://localhost:8080/"
        },
        "id": "7CikxfFTk1RV",
        "outputId": "b9f16559-95ef-4a63-b481-e0bbf67e0177"
      },
      "execution_count": null,
      "outputs": [
        {
          "output_type": "stream",
          "name": "stdout",
          "text": [
            "A=89\n",
            "B=76\n",
            "C=45\n",
            "D=31\n",
            "Минимум: 31.0, Максимум: 89.0\n"
          ]
        }
      ]
    },
    {
      "cell_type": "markdown",
      "source": [
        "Proc12. Описать процедуру SortInc3(A, B, C), меняющую содержимое перемен- ных A, B, C таким образом, чтобы их значения оказались упорядоченными по возрастанию (A, B, C — вещественные параметры, являющиеся одно- временно входными и выходными). С помощью этой процедуры упорядо- чить по возрастанию два данных набора из трех чисел: (A1, B1, C1) и (A2, B2, C2)."
      ],
      "metadata": {
        "id": "PmbuHkOWmH-l"
      }
    },
    {
      "cell_type": "code",
      "source": [
        "def SortInc3(A, B, C):\n",
        "    if A > B:\n",
        "        A, B = B, A\n",
        "    if B > C:\n",
        "        B, C = C, B\n",
        "    if A > B:\n",
        "        A, B = B, A\n",
        "    return A, B, C\n",
        "\n",
        "A1 = float(input('A1='))\n",
        "B1 = float(input('B1='))\n",
        "C1 = float(input('C1='))\n",
        "A2 = float(input('A2='))\n",
        "B2 = float(input('B2='))\n",
        "C2 = float(input('C2='))\n",
        "\n",
        "A1, B1, C1 = SortInc3(A1, B1, C1)\n",
        "A2, B2, C2 = SortInc3(A2, B2, C2)\n",
        "\n",
        "print(A1, B1, C1)\n",
        "print(A2, B2, C2)"
      ],
      "metadata": {
        "colab": {
          "base_uri": "https://localhost:8080/"
        },
        "id": "Mty5-NwkmKFV",
        "outputId": "4b384e87-4cdd-4110-fb4b-72b7c8c4fe0a"
      },
      "execution_count": null,
      "outputs": [
        {
          "output_type": "stream",
          "name": "stdout",
          "text": [
            "A1=4\n",
            "B1=7\n",
            "C1=3\n",
            "A2=9\n",
            "B2=2\n",
            "C2=1\n",
            "3.0 4.0 7.0\n",
            "1.0 2.0 9.0\n"
          ]
        }
      ]
    },
    {
      "cell_type": "markdown",
      "source": [
        "Proc13. Описать процедуру SortDec3(A, B, C), меняющую содержимое пере- менных A, B, C таким образом, чтобы их значения оказались упорядочен- ными по убыванию (A, B, C — вещественные параметры, являющиеся од- новременно входными и выходными). С помощью этой процедуры упоря- дочить по убыванию два данных набора из трех чисел: (A1, B1, C1) и (A2, B2, C2)."
      ],
      "metadata": {
        "id": "FJ35I9FnmxNS"
      }
    },
    {
      "cell_type": "code",
      "source": [
        "def SortDec3(A, B, C):\n",
        "    if A < B:\n",
        "        A, B = B, A\n",
        "    if B < C:\n",
        "        B, C = C, B\n",
        "    if A < B:\n",
        "        A, B = B, A\n",
        "    return A, B, C\n",
        "\n",
        "A1 = float(input('A1='))\n",
        "B1 = float(input('B1='))\n",
        "C1 = float(input('C1='))\n",
        "A2 = float(input('A2='))\n",
        "B2 = float(input('B2='))\n",
        "C2 = float(input('C2='))\n",
        "\n",
        "A1, B1, C1 = SortDec3(A1, B1, C1)\n",
        "A2, B2, C2 = SortDec3(A2, B2, C2)\n",
        "\n",
        "print(A1, B1, C1)\n",
        "print(A2, B2, C2)"
      ],
      "metadata": {
        "colab": {
          "base_uri": "https://localhost:8080/"
        },
        "id": "_KpfxcO0mzko",
        "outputId": "958073b0-0a2e-4d93-983b-ed56caaffe69"
      },
      "execution_count": null,
      "outputs": [
        {
          "output_type": "stream",
          "name": "stdout",
          "text": [
            "A1=4\n",
            "B1=8\n",
            "C1=5\n",
            "A2=1\n",
            "B2=6\n",
            "C2=3\n",
            "8.0 5.0 4.0\n",
            "6.0 3.0 1.0\n"
          ]
        }
      ]
    },
    {
      "cell_type": "markdown",
      "source": [
        "![image.png](data:image/png;base64,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)"
      ],
      "metadata": {
        "id": "Evluhhu35-UD"
      }
    },
    {
      "cell_type": "markdown",
      "source": [
        "1"
      ],
      "metadata": {
        "id": "3KiNEU9r6EJz"
      }
    },
    {
      "cell_type": "code",
      "source": [
        "def digits_of_number(n):\n",
        "    result = []\n",
        "    while n > 0:\n",
        "        digit = n % 10\n",
        "        result.append(digit)\n",
        "        n //= 10\n",
        "    return result[::-1]\n",
        "\n",
        "number = 12345\n",
        "print(digits_of_number(number))"
      ],
      "metadata": {
        "id": "j1ZOPFDY6Esl",
        "outputId": "a3be398b-0e60-4437-a20f-3654988f49e9",
        "colab": {
          "base_uri": "https://localhost:8080/"
        }
      },
      "execution_count": 15,
      "outputs": [
        {
          "output_type": "stream",
          "name": "stdout",
          "text": [
            "[1, 2, 3, 4, 5]\n"
          ]
        }
      ]
    },
    {
      "cell_type": "markdown",
      "source": [
        "2"
      ],
      "metadata": {
        "id": "7nsjutiq7qw_"
      }
    },
    {
      "cell_type": "code",
      "source": [
        "import math\n",
        "\n",
        "def triangle_area(vertices):\n",
        "    x1, y1 = vertices[0]\n",
        "    x2, y2 = vertices[1]\n",
        "    x3, y3 = vertices[2]\n",
        "\n",
        "    side_a = math.sqrt((x2-x1)**2 + (y2-y1)**2)\n",
        "    side_b = math.sqrt((x3-x2)**2 + (y3-y2)**2)\n",
        "    side_c = math.sqrt((x1-x3)**2 + (y1-y3)**2)\n",
        "\n",
        "    semi_perimeter = (side_a + side_b + side_c) / 2\n",
        "    area = math.sqrt(semi_perimeter * (semi_perimeter - side_a) *\n",
        "                     (semi_perimeter - side_b) * (semi_perimeter - side_c))\n",
        "    return area\n",
        "\n",
        "vertices = [(0, 0), (3, 0), (0, 4)]\n",
        "area = triangle_area(vertices)\n",
        "print(area)"
      ],
      "metadata": {
        "id": "eqXXcRS77sF-",
        "outputId": "d8e22910-37ec-4f10-d20e-a7c226a4f3da",
        "colab": {
          "base_uri": "https://localhost:8080/"
        }
      },
      "execution_count": 23,
      "outputs": [
        {
          "output_type": "stream",
          "name": "stdout",
          "text": [
            "6.0\n"
          ]
        }
      ]
    },
    {
      "cell_type": "markdown",
      "source": [
        "3"
      ],
      "metadata": {
        "id": "a9UbaKfv8L2p"
      }
    },
    {
      "cell_type": "code",
      "source": [
        "def sum_of_digits(N):\n",
        "    if N < 10:\n",
        "        return N\n",
        "    return N % 10 + sum_of_digits(N // 10)\n",
        "\n",
        "N = 12345\n",
        "result = sum_of_digits(N)\n",
        "print(result)"
      ],
      "metadata": {
        "id": "yDmE3IHE8MYv",
        "outputId": "9e081500-ea14-445d-f656-5b7105bd9fb8",
        "colab": {
          "base_uri": "https://localhost:8080/"
        }
      },
      "execution_count": 29,
      "outputs": [
        {
          "output_type": "stream",
          "name": "stdout",
          "text": [
            "15\n"
          ]
        }
      ]
    }
  ]
}